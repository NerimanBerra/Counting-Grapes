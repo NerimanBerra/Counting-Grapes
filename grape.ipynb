{
 "cells": [
  {
   "cell_type": "code",
   "execution_count": null,
   "id": "00742ffe-cdac-4d40-8692-66a9011c9d06",
   "metadata": {},
   "outputs": [],
   "source": [
    "import cv2\n",
    "import numpy as np\n",
    "\n",
    "img= cv2.imread(r'C:\\Users\\berra\\Desktop\\RKSoft\\8\\grape.png')\n",
    "img = cv2.cvtColor(img, cv2.COLOR_BGR2GRAY)\n",
    "img = cv2.GaussianBlur(img, (3, 3), 1.5)\n",
    "img = cv2.Canny(img, 50, 300)\n",
    "\n",
    "cv2.imwrite(r'C:\\Users\\berra\\Desktop\\RKSoft\\8\\grape2.png', img)\n",
    "\n",
    "\n",
    "\n",
    "params = cv2.SimpleBlobDetector_Params()\n",
    "\n",
    "params.filterByArea = True\n",
    "params.minArea = 10\n",
    "params.maxArea = 50\n",
    "params.filterByCircularity = False\n",
    "params.filterByConvexity = False\n",
    "params.filterByInertia = False\n",
    "\n",
    "detector = cv2.SimpleBlobDetector_create(params)\n",
    "keypoints = detector.detect(img)\n",
    "img_with_keypoints = cv2.drawKeypoints(img, keypoints, np.array([]), (0, 0, 255), cv2.DRAW_MATCHES_FLAGS_DRAW_RICH_KEYPOINTS)\n",
    "image_new= cv2.imwrite(r'C:\\Users\\berra\\Desktop\\RKSoft\\8\\grase4.jpg',img_with_keypoints)"
   ]
  },
  {
   "cell_type": "code",
   "execution_count": null,
   "id": "142f6002-6de7-4900-9b87-3846dc0f68b1",
   "metadata": {},
   "outputs": [],
   "source": [
    "h, w = img.shape[:]\n",
    "\n",
    "circles = cv2.HoughCircles(img, cv2.HOUGH_GRADIENT, 1.5, int(w / 20), param1=50, param2=20, minRadius=int(w / 40),\n",
    "maxRadius=int(w / 15))\n",
    "\n",
    "circles = np.uint16(np.around(circles))\n",
    "\n",
    "for c in circles[0, :]:\n",
    "    print(c)\n",
    "\n",
    "cv2.circle(circles, (c[0], c[1]), c[2], (0, 255, 0), 2)\n",
    "cv2.circle(circles, (c[0], c[1]), 1, (0, 0, 255), 1)\n",
    "cv2.imwrite(r'C:\\Users\\berra\\Desktop\\RKSoft\\8\\grape3.png',img_with_keypoints)"
   ]
  },
  {
   "cell_type": "code",
   "execution_count": 2,
   "id": "243d2bcd-d7c4-457b-b21c-be2ec06d02f9",
   "metadata": {},
   "outputs": [
    {
     "data": {
      "text/plain": [
       "True"
      ]
     },
     "execution_count": 2,
     "metadata": {},
     "output_type": "execute_result"
    }
   ],
   "source": [
    "import cv2 \n",
    "import numpy as np \n",
    "\n",
    "# Read image. \n",
    "img= cv2.imread(r'C:\\Users\\berra\\Desktop\\RKSoft\\8\\grape.png')\n",
    "\n",
    "# Convert to grayscale. \n",
    "gray = cv2.cvtColor(img, cv2.COLOR_BGR2GRAY) \n",
    "\n",
    "# Blur using 3 * 3 kernel. \n",
    "gray_blurred = cv2.blur(gray, (3, 3)) \n",
    "\n",
    "lab = cv2.cvtColor(img, cv2.COLOR_RGB2LAB)\n",
    "l, a, b = cv2.split(lab)\n",
    "\n",
    "# CLAHE (Contrast Limited Adaptive Histogram Equalization) uygulayarak kontrast artırma\n",
    "clahe = cv2.createCLAHE(clipLimit=-3.0, tileGridSize=(8, 8))\n",
    "cl = clahe.apply(l)\n",
    "\n",
    "image = cv2.merge((cl, a, b))\n",
    "enhanced_image = cv2.cvtColor(image, cv2.COLOR_LAB2RGB)\n",
    "\n",
    "\n",
    "# Apply Hough transform on the blurred image. \n",
    "detected_circles = cv2.HoughCircles(gray_blurred, \n",
    "\t\t\t\tcv2.HOUGH_GRADIENT, 1, 20, param1 = 50, \n",
    "\t\t\tparam2 = 30, minRadius = 1, maxRadius = 40) \n",
    "\n",
    "# Draw circles that are detected. \n",
    "if detected_circles is not None: \n",
    "\n",
    "\t# Convert the circle parameters a, b and r to integers. \n",
    "\tdetected_circles = np.uint16(np.around(detected_circles)) \n",
    "\n",
    "\tfor pt in detected_circles[0, :]: \n",
    "\t\ta, b, r = pt[0], pt[1], pt[2] \n",
    "\n",
    "\t\t# Draw the circumference of the circle. \n",
    "\t\tcv2.circle(img, (a, b), r, (0, 255, 0), 2) \n",
    "\n",
    "\t\t# Draw a small circle (of radius 1) to show the center. \n",
    "cv2.circle(img, (a, b), 1, (0, 0, 255), 3) \n",
    "cv2.imwrite(r'C:\\Users\\berra\\Desktop\\RKSoft\\8\\grape5.png', img)"
   ]
  },
  {
   "cell_type": "code",
   "execution_count": 68,
   "id": "65878e15-9b56-4275-aeb6-ca8ce13e0687",
   "metadata": {},
   "outputs": [
    {
     "data": {
      "text/plain": [
       "True"
      ]
     },
     "execution_count": 68,
     "metadata": {},
     "output_type": "execute_result"
    }
   ],
   "source": [
    "# import required libraries\n",
    "import cv2\n",
    "import numpy as np\n",
    "\n",
    "# read input image\n",
    "img= cv2.imread(r'C:\\Users\\berra\\Desktop\\RKSoft\\8\\grape.png')\n",
    "\n",
    "# Convert BGR to HSV\n",
    "hsv = cv2.cvtColor(img, cv2.COLOR_BGR2HSV)\n",
    "\n",
    "# define range of blue color in HSV\n",
    "lower_purple = np.array([120, 50, 50])\n",
    "upper_purple = np.array([140, 255, 255])\n",
    "\n",
    "# Create a mask. Threshold the HSV image to get only yellow colors\n",
    "mask = cv2.inRange(img, lower_purple, upper_purple)\n",
    "\n",
    "# Bitwise-AND mask and original image\n",
    "result = cv2.bitwise_and(img, img, mask= mask)\n",
    "\n",
    "# display the mask and masked image\n",
    "cv2.imwrite(r'C:\\Users\\berra\\Desktop\\RKSoft\\8\\grape6.png', mask)"
   ]
  },
  {
   "cell_type": "code",
   "execution_count": 142,
   "id": "7e530d06-2740-4672-be55-7a146be3fffd",
   "metadata": {},
   "outputs": [
    {
     "name": "stdout",
     "output_type": "stream",
     "text": [
      "Number of Contours found = 1734\n"
     ]
    }
   ],
   "source": [
    "import cv2 \n",
    "import numpy as np \n",
    "\n",
    "# Let's load a simple image with 3 black squares \n",
    "image = cv2.imread(r'C:\\Users\\berra\\Desktop\\RKSoft\\8\\grape10.png') \n",
    "\n",
    "# Find Canny edges \n",
    "edged = cv2.Canny(image, 30, 200) \n",
    "\n",
    "# Finding Contours \n",
    "# Use a copy of the image e.g. edged.copy() \n",
    "# since findContours alters the image \n",
    "contours, hierarchy = cv2.findContours(edged, \n",
    "\tcv2.RETR_EXTERNAL, cv2.CHAIN_APPROX_NONE) \n",
    "\n",
    "# Draw all contours \n",
    "# -1 signifies drawing all contours \n",
    "cv2.drawContours(image, contours, -1, (0, 255, 0), 3) \n",
    "cv2.imwrite(r'C:\\Users\\berra\\Desktop\\RKSoft\\8\\grape12.png', image)\n",
    "\n",
    "print(\"Number of Contours found = \" + str(len(contours))) "
   ]
  },
  {
   "cell_type": "code",
   "execution_count": null,
   "id": "c79b7343-9371-4b41-9d9a-a2bee545b335",
   "metadata": {},
   "outputs": [],
   "source": []
  }
 ],
 "metadata": {
  "kernelspec": {
   "display_name": "Python 3 (ipykernel)",
   "language": "python",
   "name": "python3"
  },
  "language_info": {
   "codemirror_mode": {
    "name": "ipython",
    "version": 3
   },
   "file_extension": ".py",
   "mimetype": "text/x-python",
   "name": "python",
   "nbconvert_exporter": "python",
   "pygments_lexer": "ipython3",
   "version": "3.12.4"
  }
 },
 "nbformat": 4,
 "nbformat_minor": 5
}
